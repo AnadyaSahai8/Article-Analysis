{
 "cells": [
  {
   "cell_type": "markdown",
   "metadata": {},
   "source": [
    "## Data Cleaning"
   ]
  },
  {
   "cell_type": "markdown",
   "metadata": {},
   "source": [
    "` Data cleaning is a time consuming and unenjoyable task, yet it's a very important one. Keep in mind, \"garbage in, garbage out\".`\n",
    "\n",
    "#### Feeding dirty data into a model will give us results that are meaningless.\n",
    "\n",
    "### Objective:\n",
    "\n",
    "1. Getting the data \n",
    "2. Cleaning the data \n",
    "3. Organizing the data - organize the cleaned data into a way that is easy to input into other algorithms\n",
    "\n",
    "### Output :\n",
    "#### cleaned and organized data in two standard text formats:\n",
    "\n",
    "1. Corpus - a collection of text\n",
    "2. Document-Term Matrix - word counts in matrix format"
   ]
  },
  {
   "cell_type": "markdown",
   "metadata": {},
   "source": [
    "## Problem Statement"
   ]
  },
  {
   "cell_type": "markdown",
   "metadata": {},
   "source": [
    "Look at transcripts of various comedians and note their similarities and differences and find if the stand up comedian of your choice has comedy style different than other comedian.\n"
   ]
  },
  {
   "cell_type": "markdown",
   "metadata": {},
   "source": [
    "## Getting The Data"
   ]
  },
  {
   "cell_type": "markdown",
   "metadata": {},
   "source": [
    "You can get the transcripts of some comedian from [Scraps From The Loft](http://scrapsfromtheloft.com). \n",
    "\n",
    "You can take help of IMDB and select only 10 or 20 comedian having highest rating.\n",
    "\n",
    "\n",
    "\n",
    "\n",
    "\n",
    "\n",
    "### For example:"
   ]
  },
  {
   "cell_type": "code",
   "execution_count": 42,
   "metadata": {},
   "outputs": [],
   "source": [
    "# Web scraping, pickle imports\n",
    "import requests\n",
    "from bs4 import BeautifulSoup\n",
    "import pickle\n",
    "\n",
    "# Scrapes transcript data from scrapsfromtheloft.com\n",
    "def url_to_transcript(url):\n",
    "    '''Returns transcript data specifically from scrapsfromtheloft.com.'''\n",
    "    page = requests.get(url).text\n",
    "    soup = BeautifulSoup(page, \"lxml\")\n",
    "    text = [p.text for p in soup.find(class_=\"grid grid-cols-none gap-0 relative z-1 ml-0 desktop:ml-24 !grid-cols-6 pt-10\")]\n",
    "    print(url)\n",
    "    return text\n",
    "\n",
    "# URLs of transcripts in scope\n",
    "urls = [\"https://www.formula1.com/en/latest/article/wolff-says-mercedes-are-in-live-testing-as-they-look-to-find-their-feet-with.WdhJo5uiH5w7RXv1jxYCG\",\n",
    "        \"https://www.formula1.com/en/latest/article/normally-we-should-be-p9-alonso-praises-aston-martin-for-maximising-small.2NqZrT7vG9R1SHC6h4mvN6\",\n",
    "        \"https://www.formula1.com/en/latest/article/perez-expects-decision-on-red-bull-future-to-be-made-within-next-month.4f3CISx1VFIFMzF4qnm5Yy\",\n",
    "        \"https://www.formula1.com/en/latest/article/sainz-insists-its-time-to-speed-up-everything-as-he-assesses-his-2025.pC7FFez14vQ5NtL2keKx2\",\n",
    "        \"https://www.formula1.com/en/latest/article/leclerc-paid-the-price-for-poor-qualifying-in-japanese-gp-as-he-vows-to-work.1h2CALzqr7C4dZKDzLZhXe\",\n",
    "        \"https://www.formula1.com/en/latest/article/i-couldnt-turn-hamilton-explains-japanese-gp-issue-that-caused-him-to-let.5gIdEGPh0hZ84ugrBDZZQT\",\n",
    "        \"https://www.formula1.com/en/latest/article/relieved-tsunoda-hails-insane-rb-pit-stop-as-he-nets-a-point-on-home-soil.nj9ymzkhF3TJgOMCobN8z\"\n",
    "        ]\n",
    "\n",
    "# Comedian names\n",
    "Article = [\"TotoOnMercedes\",\"AlonsoPraisesAMR\",\"PerezOnHisFuture\",\"SainzOnHisFuture\",\"LeclercsPoorQualifying\",\"HamiltonsCarIssues\",\"TsunodaPoints\"]"
   ]
  },
  {
   "cell_type": "code",
   "execution_count": 43,
   "metadata": {},
   "outputs": [
    {
     "name": "stdout",
     "output_type": "stream",
     "text": [
      "https://www.formula1.com/en/latest/article/wolff-says-mercedes-are-in-live-testing-as-they-look-to-find-their-feet-with.WdhJo5uiH5w7RXv1jxYCG\n",
      "https://www.formula1.com/en/latest/article/normally-we-should-be-p9-alonso-praises-aston-martin-for-maximising-small.2NqZrT7vG9R1SHC6h4mvN6\n",
      "https://www.formula1.com/en/latest/article/perez-expects-decision-on-red-bull-future-to-be-made-within-next-month.4f3CISx1VFIFMzF4qnm5Yy\n",
      "https://www.formula1.com/en/latest/article/sainz-insists-its-time-to-speed-up-everything-as-he-assesses-his-2025.pC7FFez14vQ5NtL2keKx2\n",
      "https://www.formula1.com/en/latest/article/leclerc-paid-the-price-for-poor-qualifying-in-japanese-gp-as-he-vows-to-work.1h2CALzqr7C4dZKDzLZhXe\n",
      "https://www.formula1.com/en/latest/article/i-couldnt-turn-hamilton-explains-japanese-gp-issue-that-caused-him-to-let.5gIdEGPh0hZ84ugrBDZZQT\n",
      "https://www.formula1.com/en/latest/article/relieved-tsunoda-hails-insane-rb-pit-stop-as-he-nets-a-point-on-home-soil.nj9ymzkhF3TJgOMCobN8z\n"
     ]
    }
   ],
   "source": [
    "# Actually request transcripts (takes a few minutes to run)\n",
    "def url_to_transcript(url):\n",
    "    '''Returns transcript data specifically from scrapsfromtheloft.com.'''\n",
    "    page = requests.get(url).text\n",
    "    soup = BeautifulSoup(page, \"lxml\")\n",
    "    text = [p.text for p in soup.find(class_=\"grid grid-cols-none gap-0 relative z-1 ml-0 desktop:ml-24 !grid-cols-6 pt-10\").find_all('p')]\n",
    "    print(url)\n",
    "    return text\n",
    "transcripts = [url_to_transcript(u) for u in urls]"
   ]
  },
  {
   "cell_type": "code",
   "execution_count": 49,
   "metadata": {},
   "outputs": [
    {
     "name": "stderr",
     "output_type": "stream",
     "text": [
      "A subdirectory or file transcripts already exists.\n"
     ]
    }
   ],
   "source": [
    "# Pickle files for later use\n",
    "\n",
    "# Make a new directory to hold the text files\n",
    "!mkdir transcripts\n",
    "\n",
    "for i, c in enumerate(Article):\n",
    "    with open(\"transcripts/\" + c + \".txt\", \"wb\") as file:\n",
    "        pickle.dump(transcripts[i], file)"
   ]
  },
  {
   "cell_type": "code",
   "execution_count": 50,
   "metadata": {},
   "outputs": [],
   "source": [
    "# Load pickled files\n",
    "data = {}\n",
    "for i, c in enumerate(Article):\n",
    "    with open(\"transcripts/\" + c + \".txt\", \"rb\") as file:\n",
    "        data[c] = pickle.load(file)"
   ]
  },
  {
   "cell_type": "code",
   "execution_count": 51,
   "metadata": {},
   "outputs": [
    {
     "data": {
      "text/plain": [
       "dict_keys(['TotoOnMercedes', 'AlonsoPraisesAMR', 'PerezOnHisFuture', 'SainzOnHisFuture', 'LeclercsPoorQualifying', 'HamiltonsCarIssues', 'TsunodaPoints'])"
      ]
     },
     "execution_count": 51,
     "metadata": {},
     "output_type": "execute_result"
    }
   ],
   "source": [
    "# Double check to make sure data has been loaded properly\n",
    "data.keys()"
   ]
  },
  {
   "cell_type": "markdown",
   "metadata": {},
   "source": [
    "## Cleaning The Data"
   ]
  },
  {
   "cell_type": "markdown",
   "metadata": {},
   "source": [
    "When dealing with numerical data, data cleaning often involves removing null values and duplicate data, dealing with outliers, etc. With text data, there are some common data cleaning techniques, which are also known as text pre-processing techniques.\n",
    "\n",
    "With text data, this cleaning process can go on forever. There's always an exception to every cleaning step. So, we're going to follow the MVP (minimum viable product) approach - start simple and iterate.\n",
    "### Assignment:\n",
    "1. Perform the following data cleaning on transcripts:\n",
    "i) Make text all lower case\n",
    "ii) Remove punctuation\n",
    "iii) Remove numerical values\n",
    "iv) Remove common non-sensical text (/n)\n",
    "v) Tokenize text\n",
    "vi) Remove stop words"
   ]
  },
  {
   "cell_type": "code",
   "execution_count": 52,
   "metadata": {},
   "outputs": [
    {
     "data": {
      "text/plain": [
       "'TotoOnMercedes'"
      ]
     },
     "execution_count": 52,
     "metadata": {},
     "output_type": "execute_result"
    }
   ],
   "source": [
    "# Let's take a look at our data again\n",
    "next(iter(data.keys()))"
   ]
  },
  {
   "cell_type": "code",
   "execution_count": 53,
   "metadata": {},
   "outputs": [
    {
     "data": {
      "text/plain": [
       "['Toto Wolff has admitted that Mercedes are in a process of “live testing” as they continue to try to find their feet with the W15, having changed the concept of the car for 2024 following two challenging seasons with the previous design.',\n",
       " 'Lewis Hamilton and George Russell had both sounded a positive note earlier in the weekend at the Japanese Grand Prix, with Hamilton particularly optimistic about the progress the team had made after what he called their “best session”\\xa0of the year so far in Friday’s Free Practice 1.',\n",
       " 'READ MORE: ‘I couldn’t turn’ – Hamilton explains Japanese GP issue that caused him to let team mate Russell past',\n",
       " 'Race day proved to be a little more challenging on the surface. Hamilton ended the race in P9, having struggled with “huge understeer”, while Russell finished three seconds ahead in P7.',\n",
       " 'Reflecting on their performance later on, team boss Toto Wolff acknowledged the early struggles that the squad faced in the Grand Prix, but suggested that the learnings are all a part of the process of fine-tuning the car.',\n",
       " '“We had an atrocious first stint, which we need to analyse why,” said Wolff. “Very good second and third stint, and that is the positive that we take from the race.',\n",
       " 'Wolff says that Mercedes are continuing to experiment with the W15',\n",
       " '“It is live testing now for us. We’ve been on the back foot and besides our issues for two seasons, and now we’ve taken a different direction and I think this is happening.”',\n",
       " 'Asked if the Brackley-based outfit now have a better understanding of the W15, Wolff responded: “Much better, definitely much better. Lots more data to point us in the right direction, even if it’s not reflected in the result.”',\n",
       " 'MONDAY MORNING DEBRIEF: Who nailed their strategy in Japan as a hot track saw the top 10 opt for differing tyre calls?',\n",
       " 'Having originally been set not to attend the race in Japan, Wolff changed his decision in order to be with the team as they embarked on experiments with the car during the weekend at Suzuka, something that he felt went well.',\n",
       " '“The experiments have worked,” he remarked after the Grand Prix. “I think we have a clear direction even though the qualifying and race result doesn’t reflect it at all. We’ve aimed for a one-stop [strategy] and then we’ve found out it wasn’t possible, probably over-managed the tyres.',\n",
       " 'This feature is currently not available because you need to provide consent to functional cookies. Please update your cookie preferences',\n",
       " 'Wolff responds to reports Vettel could make F1 comeback with Mercedes',\n",
       " '“But at the moment we have picked up the speed. On the similar stint lengths like the others, we were competitive.”',\n",
       " 'The next stop on the calendar is the Chinese Grand Prix, which will take place from April 19-21 as the event returns for the first time since 2019. Wolff is hopeful that the experiments carried out by the team at Suzuka can be further built on there.',\n",
       " 'READ MORE: Wolff admits Vettel is ‘never a name you can discount’ amid rumours of F1 comeback with Mercedes',\n",
       " '“I think I can’t wait to go racing in Shanghai,” the Austrian added. “We just need to have a better start of the weekend, and some of the improved concept that we’ve done here will be on the car, and then [we’ll] see what we can do in Shanghai.”',\n",
       " 'After four races so far in 2024, Mercedes currently sit fourth in the constructors’ standings on 34 points, putting them just one point ahead of Aston Martin in fifth.']"
      ]
     },
     "execution_count": 53,
     "metadata": {},
     "output_type": "execute_result"
    }
   ],
   "source": [
    "# Notice that our dictionary is currently in key: comedian, value: list of text format\n",
    "next(iter(data.values()))"
   ]
  },
  {
   "cell_type": "code",
   "execution_count": 54,
   "metadata": {
    "collapsed": true
   },
   "outputs": [],
   "source": [
    "# We are going to change this to key: comedian, value: string format\n",
    "def combine_text(list_of_text):\n",
    "    '''Takes a list of text and combines them into one large chunk of text.'''\n",
    "    combined_text = ' '.join(list_of_text)\n",
    "    return combined_text"
   ]
  },
  {
   "cell_type": "code",
   "execution_count": 55,
   "metadata": {
    "collapsed": true
   },
   "outputs": [
    {
     "data": {
      "text/plain": [
       "{'TotoOnMercedes': ['Toto Wolff has admitted that Mercedes are in a process of “live testing” as they continue to try to find their feet with the W15, having changed the concept of the car for 2024 following two challenging seasons with the previous design. Lewis Hamilton and George Russell had both sounded a positive note earlier in the weekend at the Japanese Grand Prix, with Hamilton particularly optimistic about the progress the team had made after what he called their “best session”\\xa0of the year so far in Friday’s Free Practice 1. READ MORE: ‘I couldn’t turn’ – Hamilton explains Japanese GP issue that caused him to let team mate Russell past Race day proved to be a little more challenging on the surface. Hamilton ended the race in P9, having struggled with “huge understeer”, while Russell finished three seconds ahead in P7. Reflecting on their performance later on, team boss Toto Wolff acknowledged the early struggles that the squad faced in the Grand Prix, but suggested that the learnings are all a part of the process of fine-tuning the car. “We had an atrocious first stint, which we need to analyse why,” said Wolff. “Very good second and third stint, and that is the positive that we take from the race. Wolff says that Mercedes are continuing to experiment with the W15 “It is live testing now for us. We’ve been on the back foot and besides our issues for two seasons, and now we’ve taken a different direction and I think this is happening.” Asked if the Brackley-based outfit now have a better understanding of the W15, Wolff responded: “Much better, definitely much better. Lots more data to point us in the right direction, even if it’s not reflected in the result.” MONDAY MORNING DEBRIEF: Who nailed their strategy in Japan as a hot track saw the top 10 opt for differing tyre calls? Having originally been set not to attend the race in Japan, Wolff changed his decision in order to be with the team as they embarked on experiments with the car during the weekend at Suzuka, something that he felt went well. “The experiments have worked,” he remarked after the Grand Prix. “I think we have a clear direction even though the qualifying and race result doesn’t reflect it at all. We’ve aimed for a one-stop [strategy] and then we’ve found out it wasn’t possible, probably over-managed the tyres. This feature is currently not available because you need to provide consent to functional cookies. Please update your cookie preferences Wolff responds to reports Vettel could make F1 comeback with Mercedes “But at the moment we have picked up the speed. On the similar stint lengths like the others, we were competitive.” The next stop on the calendar is the Chinese Grand Prix, which will take place from April 19-21 as the event returns for the first time since 2019. Wolff is hopeful that the experiments carried out by the team at Suzuka can be further built on there. READ MORE: Wolff admits Vettel is ‘never a name you can discount’ amid rumours of F1 comeback with Mercedes “I think I can’t wait to go racing in Shanghai,” the Austrian added. “We just need to have a better start of the weekend, and some of the improved concept that we’ve done here will be on the car, and then [we’ll] see what we can do in Shanghai.” After four races so far in 2024, Mercedes currently sit fourth in the constructors’ standings on 34 points, putting them just one point ahead of Aston Martin in fifth.'],\n",
       " 'AlonsoPraisesAMR': ['Fernando Alonso was delighted with his drive to P6 in the Japanese Grand Prix, given that – with the Spaniard believing Aston Martin to currently be the “fifth fastest team” – he thinks they should typically be finishing in P9 or P10. After lining up in P5 on the grid, Alonso looked to have good pace in the early stages of the race on the soft tyre. During his second stint on the medium compound, the two-time world champion was running in sixth and found himself being chased down by Oscar Piastri and George Russell. READ MORE: Verstappen leads home Perez for Red Bull one-two at Japanese GP after early drama Alonso allowed Piastri to stay close enough to use DRS, which enabled the McLaren driver to defend from Russell, and this ultimately helped Alonso to hold on to P6 to the chequered flag. Reflecting on how he felt about the car’s race pace – with this not having been a strong point for the squad so far in 2024 – Alonso said: “I think we were a little bit better than the last few events, but we still need some pace compared to McLaren and Mercedes. Red Bull and Ferrari, they are in another league. This feature is currently not available because you need to provide consent to functional cookies. Please update your cookie preferences Alonso happy with P6 in Japan – ‘Normally we should be P9’ “We’re still I think [the] fifth fastest team, which [means] normally we should be P9 and P10, and we were P5 in qualifying and P6 in the race, so we definitely maximised the points available and [I’m] happy for that, but we need to still improve the car.” Aston Martin were running updates at Suzuka, and Alonso feels that the team need more time to analyse the performance of these. However, the 42-year-old praised the British outfit for maximising many factors during the weekend in Japan. MONDAY MORNING DEBRIEF: Who nailed their strategy in Japan as a hot track saw the top 10 opt for differing tyre calls? “It is difficult always to compare from track to track [regarding how the new package performed], but I guess we have a lot of data now,” Alonso explained. “After the whole weekend we will analyse everything. \"The team for sure is doing everything right on Sundays – strategy-wise, the start is mega, pit stops today were amazing, and thanks to all those small factors we are finishing sixth instead of ninth or wherever. “I love to see that but, as I said, fundamentally the pace of the car is still not as good as we want it and we want to improve that.” This feature is currently not available because you need to provide consent to functional cookies. Please update your cookie preferences Stroll laments lack of straight-line pace in Japan: ‘I had to do my overtaking in Turn 6’ On the other side of the garage, Lance Stroll managed to climb through the field after starting down in P16 on the grid and crossed the line in P12. The Canadian struggled with his pace on the straights, though, and acknowledged after the race that it had been “really tough”. “We lacked a lot of straight-line speed, so I had to do my overtaking at Turn 6,” Stroll commented. “I couldn’t do it down the main straight in DRS. So yeah, it was a tough race, tough weekend.” HIGHLIGHTS: Watch the action from the Japanese Grand Prix as Verstappen wins following early red flag After suggesting following Saturday’s qualifying that he was not yet sure of why he had faced difficulties, Stroll is hopeful that there is more understanding of what to work on following Sunday’s race as attentions now turn to the upcoming Chinese Grand Prix. “We have some ideas, so hopefully we can have a better weekend in China,” added Stroll.'],\n",
       " 'PerezOnHisFuture': [\"Sergio Perez expects his Red Bull and F1 future to be clarified within the next month, with the Mexican out of contract next year. The Mexican has been in this exact position before – originally signing a one-year deal with Red Bull for 2021, so spending that season earning the right to extend his contract. He's also been in the even worse position of losing his drive with Racing Point late on in 2020 and not knowing if he'd have a seat for the next season – but given how well he has performed in 2024 so far, it’s easy to see why Perez is cutting a relaxed figure when asked about his future. READ MORE: ‘Relieved’ Tsunoda hails 'insane' RB pit stop as he nets a point on home soil Perez signed a two-year contract with the Milton Keynes team back in 2022, but as is always the case in Formula 1, there were performance clauses and get outs for both sides. As it was, Red Bull retained the Mexican for 2024 despite a difficult campaign last season, with qualifying often Perez’s Achilles’ heel. But up against the juggernaut that was Max Verstappen in the RB19, Perez still secured P2 in the championship – the first time Red Bull had finished 1-2 in the drivers’. Perez is once again driving for his F1 future in 2024 With Daniel Ricciardo back in the Red Bull family down at RB and making no secret of his ambition to finish his career in a Red Bull, Liam Lawson waiting in the wings and a drivers’ market that has Carlos Sainz and Fernando Alonso as free agents for 2025, there has been plenty of chatter about potential moves and Perez’s future at Red Bull in particular of late. This year the Mexican has let his performances do the talking and now has three second-place finishes from the opening four races to go with a fifth-place from Melbourne, and is back up to P2 in the drivers’ championship. And Perez says it won’t be long before it is revealed what his future holds. READ MORE: Verstappen overjoyed by victory comeback at Suzuka as he says race ‘couldn’t have been better’ “I am pretty relaxed about it,” he told Sky Sports F1 after the race in Japan. “My main focus is in F1 and whatever comes next, I’m really pleased with what I’ve done in the sport so far. “I believe it will be a matter of time, obviously the driver market is moving and the next few weeks are going to be a lot of movement for sure, so I expect within a month to really know what I’m doing next year.” Perez has three podiums from his opening four races of the season  Often the driver market heats up in the first half of the season before culminating in announcements around the summer break in August. But Lewis Hamilton’s shock move to Ferrari for 2025 ignited the market at a much earlier stage this year, and not only freed up a coveted seat at Mercedes but also unleashed an in-form Sainz into the equation. READ MORE: Perez hails ‘good momentum’ after P2 in Japan amid turnaround from ‘worst weekend’ at Suzuka last year Sainz is one of a number of drivers who could conceivably end up at Red Bull, the Spaniard starting his F1 career alongside Max Verstappen at Toro Rosso as part of the Red Bull family. The Spaniard has admitted his team are talking to pretty much everyone in the paddock as he seeks to secure a drive for 2025. But for now, the Red Bull seat is “Perez’s to lose” according to team boss Christian Horner, with Perez very much performing like a driver who wants to stay in Formula 1 next year.\"],\n",
       " 'SainzOnHisFuture': [\"Carlos Sainz feels that now is the time to “speed up” negotiations and sort his future “sooner rather than later” as he continues to assess his options for 2025. The Spaniard was left without a seat on the grid for next year following the news that Ferrari had signed Lewis Hamilton on a multi-year contract, meaning that Sainz entered the 2024 season knowing it would be his last with the Scuderia. BARRETTO: He’s hot property after his brilliant Melbourne win – but where will Sainz be racing in 2025? Off the back of his victory last time out in Australia, Sainz gave an update on the discussions about his future ahead of the upcoming fourth race of the campaign in Japan. “I’m talking obviously to a few [teams], because that’s what my management team and myself should do when I don’t have a job for next year yet,” the 29-year-old explained. “We’re talking to pretty much all of them. “It’s just a matter of obviously going more into detail and seeing the more realistic options, and what are the best options for me and for my future. I don’t have any news for you, nothing to say here today. Sainz claimed his third victory in F1 last time out at the Australian Grand Prix “The only thing I would say is that obviously it’s time now to speed up a bit everything and hopefully we can get it sorted sooner rather than later.” Looking at the more immediate future, Sainz also shared news on his health ahead of racing at Suzuka, having made an impressive comeback in Melbourne just two weeks after undergoing surgery following a diagnosis of appendicitis during the Saudi Arabian Grand Prix weekend. READ MORE: A power move, an Indiba machine and Band of Brothers – Sainz's extraordinary 16 days that culminated in his Melbourne victory Asked if he is now back to 100 per cent fitness, Sainz responded: “I think so, yeah. I’ve been riding my bike this week, stayed in Australia for a week and started going back to the gym . “Still not lifting heavy numbers like I used to do in the past, but at least I can get my training done and [I’m] feeling back to 100 per cent.” Sainz will leave Ferrari at the end of 2024, with talks continuing over his future In terms of whether he can maintain his high level of performance from Australia during the upcoming weekend in Japan, Sainz suggested that the event could potentially be a more challenging one for Ferrari. “We’ll see. I think it’s important, like I’ve always said in the past, to turn the page quickly, in the good and in the bad,” the three-time race winner commented. “I think obviously coming from a good is more difficult to turn the page because you want to stay enjoying the moment, but I turned it on Monday. READ MORE: ‘Everybody knows his worth’ – Norris and Leclerc respond to suggestion Sainz is ‘underrated’ with 2025 future unknown “[I] started focusing my training and being back as fit as possible for Japan, also because it’s going to be a challenging track for us. I think that last year was one of our most challenging ones in reference to a Red Bull – we were I think seven or eight tenths off, four or five months ago here. “So it’s time to see where we are this year and see if we can be at least closer and enjoy a bit more this amazing track than what we enjoyed last year, because for me it’s one of my favourite ones, if not my favourite.”\"],\n",
       " 'LeclercsPoorQualifying': ['Charles Leclerc enjoyed a strong drive to P4 in the Japanese Grand Prix, but the Monegasque admitted that he was “paying the price” for his qualifying struggles in the race, having missed out on a podium position to Ferrari team mate Carlos Sainz. Leclerc started the event from P8 on the grid after a difficult qualifying on Saturday, in which he had to use two sets of soft tyres in Q1 to avoid elimination. This resulted in him relying on just one flying lap in Q3. READ MORE: Verstappen leads home Perez for Red Bull one-two at Japanese GP after early drama Race day was more successful for the 26-year-old, who made a one-stop strategy work to his advantage. While he looked to be on course to claim P3, he was overtaken by Sainz in the latter stages of the event and had to settle for fourth place, though this did not prevent him from being voted Driver of the Day by fans. “If I only look at today I’m quite happy, because I think there was nothing we could have done better,” Leclerc reflected after the race. “We’ve done a great race today. This feature is currently not available because you need to provide consent to functional cookies. Please update your cookie preferences Leclerc blames poor qualifying for failure to make the podium at Suzuka “I think we didn’t have a better result mostly because of the qualifying yesterday and this is where I want to focus, which is strange – in the past I never had to really focus on qualifying because that was one of our strengths. “But since [these past] two races, it’s not really the performance in itself, it’s just putting the tyres in the right window and I’ve been struggling a bit more than normally, which is normally my strength, and I’m paying the price today in the race by starting further away. READ MORE: Sainz thrilled with third place in Japan after making multiple overtakes during ‘tough’ race “Apart from that, the pace has been really, really good. The tyre management has been really, really good. Communication and strategy has been really, really good. “It’s also good to be voted Driver of the Day. Sometimes you do great races but you are a bit on your own, nobody notices it. Today I’m happy that people noticed it, and we’ll focus on the next race to try and put everything together, and to finally have the result that we want.” Leclerc is hoping to work on his recent qualifying issues ahead of the upcoming Chinese Grand Prix Asked if he had already started to form an idea of what is causing his issues in qualifying after Saturday’s session at Suzuka – or whether it will require more time to understand – Leclerc responded: “We need to go a bit more in-depth in the next couple of days before China. “It’s very slight differences on the out-lap, but then you get less grip on the push lap because again, as I said yesterday, the lap was good, set-up was good, just not enough grip. DRIVER OF THE DAY: Leclerc gets your vote with faultless P4 drive in Japan “Normally this has been the strength in the past but since two races it’s not, so it’s time to focus on that and hopefully put everything together starting from China.” Leclerc and Ferrari will be hoping to have a clearer understanding of those issues when the Chinese Grand Prix takes place from April 19-21.'],\n",
       " 'HamiltonsCarIssues': ['Lewis Hamilton was left to rue the struggles he faced with his Mercedes during the Japanese Grand Prix, with the seven-time world champion explaining after the race that he opted to let team mate George Russell pass him because of the problems. After sounding positive about improvements to the W15 following Saturday’s qualifying session, Hamilton started the race from P7 on the grid, two places ahead of Russell. When the event was red-flagged following a first-lap collision between Alex Albon and Daniel Ricciardo, both Mercedes cars swapped their tyre strategies to the hard compound. READ MORE: Verstappen leads home Perez for Red Bull one-two at Japanese GP after early drama Russell initially looked to have better pace on this rubber, prompting Hamilton to ask over team radio in the early stages of the race: “Shall I let George by?” By the chequered flag, Russell crossed the line in P7, just under three seconds up the road from Hamilton in P9. Asked after the race if the car had not been what he had hoped for, Hamilton responded: “The car is never what I hoped it would be. It’s never what we hoped it would be. “I got some damage I think in the first stint at the restart with Charles [Leclerc] and I had massive understeer, like huge, huge understeer. So that’s why I decided to let George by, because he seemed quicker and I just couldn’t turn the car. This feature is currently not available because you need to provide consent to functional cookies. Please update your cookie preferences Hamilton reveals why he let Russell past early on in Japanese Grand Prix “It took us two stints to finally dial more and more wing in to make up for that loss. Last stint, I was better, but it was too late, I had 10 seconds to regain.” In terms of whether he can take many positives from the weekend at Suzuka, the Briton added: “I don’t know if you can take many positives from the weekend. The car finished which is good, but we’re like, you know, seventh, eighth, ninth fastest, so… yeah.” READ MORE: Verstappen overjoyed by victory comeback at Suzuka as he says race ‘couldn’t have been better’ Russell, meanwhile, acknowledged how fine the margins currently seem to be between the teams in the battle behind Red Bull, and suggested that Mercedes had performed well given that the W15 is not generally suited to the high-speed nature of Suzuka and other recent tracks. “We know it’s very tight out there at the moment, everyone behind the Red Bulls,” he commented. “We didn’t have a great day yesterday and ultimately paid the price today, and you’ve seen that, I think, two of the four races now, one, two-tenths between six cars on the grid.\\xa0 This feature is currently not available because you need to provide consent to functional cookies. Please update your cookie preferences Tracks like Suzuka have highlighted Mercedes weaknesses – Russell “If you qualify at the front of that pack, you’ll probably be finishing at the front of that pack. It’s quite cool that the fight is like that, it’s a shame it’s not for the win. But equally we know these last three circuits haven’t really suited the strengths of our car. So we’ll reassess next week in China.” Ultimately Russell is hopeful that, from seeing their weaknesses at these venues, the team will be able to prioritise areas for improvement. READ MORE: Sainz thrilled with third place in Japan after making multiple overtakes during ‘tough’ race “I think it’s good that we’ve had these circuits to start the season, because it’s highlighted the areas we need to work on and it’s going to help us for the development for the rest of the season,” the 26-year-old said. “In Bahrain, on a low-speed circuit, we didn’t really see the weakness of the car in its high-speed performance so we’ve got work to do to make it more versatile and better across other circuits, but as I said, it’s probably been good to start the season at these tracks.”'],\n",
       " 'TsunodaPoints': ['Yuki Tsunoda was full of relief after scoring a point on home soil in Japan for the very first time. With back-to-back top-10 finishes now, the RB driver is enjoying a rich run of form. While his race ended on a high, his start from P10 proved to be a challenge, with Tsunoda losing out off the line and falling down the order as a result. He took the restart in P12, with the team making the bold call to swap him onto some used soft tyres. He used those to good effect to climb back into the points, but that wasn’t the end of his dramas. READ MORE: Sainz thrilled with third place in Japan after making multiple overtakes during ‘tough’ race Having had to pit early for the hard compound to get rid of those C3 tyres, Tsunoda gave up track position to a bunch of midfield runners, and then came in for his last pit stop on the same lap as Valtteri Bottas, Kevin Magnussen, Lance Stroll and Logan Sargeant. Some incredible work from his crew jumped him ahead of the Kick Sauber, the Williams and the Haas up into P11 – which became de facto P10 given Nico Hulkenberg ahead had yet to stop. This feature is currently not available because you need to provide consent to functional cookies. Please update your cookie preferences 2024 Japanese Grand Prix: Tsunoda and RB come out on top in five-car pit stop “[I’m] relieved,” joked Tsunoda afterwards. “I would say after I lost a couple of positions in the first start, yeah I felt a bit of disappointment for sure but at the same time I had a great start after that and I think one of the big highlights was the pit stop. “Our team did a fantastic job, the mechanics were very fast and we overtook two cars, insane! So – without them, without that – it probably would have been a lot more difficult to score a point today so big credit to the team and obviously able to score in front of Japanese fans finally, so very happy.” RACE START: Watch the getaway in Japan as Albon and Ricciardo crash brings out the red flags Tsunoda’s pit stop might have been the highlight, but the RB man still had to get his elbows out on occasion. The team had opted for a higher downforce set up with a draggier rear wing, which would lose him time on the straights, but get him closer in the corners, where the main overtaking opportunities were given there is only one DRS zone at Suzuka. “Definitely, feeling confidence you know,” Tsunoda continued. “I knew that our straight-line speed is not that competitive compared to other cars, I knew other cars had a better straight-line speed. This feature is currently not available because you need to provide consent to functional cookies. Please update your cookie preferences 2024 Japanese Grand Prix: Tsunoda crosses the line to seal points finish at his home race \"But at the same time, we know we had a lot of downforce and the only chance we had was in the Esses, that we normally use – that are affected by downforce so I tried my best, a couple of overtakes and yeah, I definitely enjoyed that.” Tsunoda’s first point at a track he knows very well from his junior Formula days helps cement RB’s position in sixth in the standings, with the team now three points clear of Haas. With that midfield so competitive, every point could really count come Abu Dhabi at the end of the season. HIGHLIGHTS: Watch the action from the Japanese Grand Prix as Verstappen wins following early red flag Tsunoda’s form has been impressively consistent so far this season, with three Q3 appearances from four races and now two finishes in the points. He is carrying the teams hopes at the moment and gave RB something to cheer about on a day that was marred by the early crash for Daniel Ricciardo. And with the first points on home soil since Kamui Kobayashi in 2012, Tsunoda gave the home fans plenty to cheer about as well. This feature is currently not available because you need to provide consent to functional cookies. Please update your cookie preferences Beaming Tsunoda credits pit crew for points finish after he jumped two cars in one stop']}"
      ]
     },
     "execution_count": 55,
     "metadata": {},
     "output_type": "execute_result"
    }
   ],
   "source": [
    "# Combine it!\n",
    "data_combined = {key: [combine_text(value)] for (key, value) in data.items()}\n",
    "data_combined"
   ]
  },
  {
   "cell_type": "code",
   "execution_count": 56,
   "metadata": {},
   "outputs": [
    {
     "data": {
      "text/html": [
       "<div>\n",
       "<style scoped>\n",
       "    .dataframe tbody tr th:only-of-type {\n",
       "        vertical-align: middle;\n",
       "    }\n",
       "\n",
       "    .dataframe tbody tr th {\n",
       "        vertical-align: top;\n",
       "    }\n",
       "\n",
       "    .dataframe thead th {\n",
       "        text-align: right;\n",
       "    }\n",
       "</style>\n",
       "<table border=\"1\" class=\"dataframe\">\n",
       "  <thead>\n",
       "    <tr style=\"text-align: right;\">\n",
       "      <th></th>\n",
       "      <th>transcript</th>\n",
       "    </tr>\n",
       "  </thead>\n",
       "  <tbody>\n",
       "    <tr>\n",
       "      <th>AlonsoPraisesAMR</th>\n",
       "      <td>Fernando Alonso was delighted with his drive to P6 in the Japanese Grand Prix, given that – with the Spaniard believing Aston Martin to currently ...</td>\n",
       "    </tr>\n",
       "    <tr>\n",
       "      <th>HamiltonsCarIssues</th>\n",
       "      <td>Lewis Hamilton was left to rue the struggles he faced with his Mercedes during the Japanese Grand Prix, with the seven-time world champion explain...</td>\n",
       "    </tr>\n",
       "    <tr>\n",
       "      <th>LeclercsPoorQualifying</th>\n",
       "      <td>Charles Leclerc enjoyed a strong drive to P4 in the Japanese Grand Prix, but the Monegasque admitted that he was “paying the price” for his qualif...</td>\n",
       "    </tr>\n",
       "    <tr>\n",
       "      <th>PerezOnHisFuture</th>\n",
       "      <td>Sergio Perez expects his Red Bull and F1 future to be clarified within the next month, with the Mexican out of contract next year. The Mexican has...</td>\n",
       "    </tr>\n",
       "    <tr>\n",
       "      <th>SainzOnHisFuture</th>\n",
       "      <td>Carlos Sainz feels that now is the time to “speed up” negotiations and sort his future “sooner rather than later” as he continues to assess his op...</td>\n",
       "    </tr>\n",
       "    <tr>\n",
       "      <th>TotoOnMercedes</th>\n",
       "      <td>Toto Wolff has admitted that Mercedes are in a process of “live testing” as they continue to try to find their feet with the W15, having changed t...</td>\n",
       "    </tr>\n",
       "    <tr>\n",
       "      <th>TsunodaPoints</th>\n",
       "      <td>Yuki Tsunoda was full of relief after scoring a point on home soil in Japan for the very first time. With back-to-back top-10 finishes now, the RB...</td>\n",
       "    </tr>\n",
       "  </tbody>\n",
       "</table>\n",
       "</div>"
      ],
      "text/plain": [
       "                                                                                                                                                                   transcript\n",
       "AlonsoPraisesAMR        Fernando Alonso was delighted with his drive to P6 in the Japanese Grand Prix, given that – with the Spaniard believing Aston Martin to currently ...\n",
       "HamiltonsCarIssues      Lewis Hamilton was left to rue the struggles he faced with his Mercedes during the Japanese Grand Prix, with the seven-time world champion explain...\n",
       "LeclercsPoorQualifying  Charles Leclerc enjoyed a strong drive to P4 in the Japanese Grand Prix, but the Monegasque admitted that he was “paying the price” for his qualif...\n",
       "PerezOnHisFuture        Sergio Perez expects his Red Bull and F1 future to be clarified within the next month, with the Mexican out of contract next year. The Mexican has...\n",
       "SainzOnHisFuture        Carlos Sainz feels that now is the time to “speed up” negotiations and sort his future “sooner rather than later” as he continues to assess his op...\n",
       "TotoOnMercedes          Toto Wolff has admitted that Mercedes are in a process of “live testing” as they continue to try to find their feet with the W15, having changed t...\n",
       "TsunodaPoints           Yuki Tsunoda was full of relief after scoring a point on home soil in Japan for the very first time. With back-to-back top-10 finishes now, the RB..."
      ]
     },
     "execution_count": 56,
     "metadata": {},
     "output_type": "execute_result"
    }
   ],
   "source": [
    "# We can either keep it in dictionary format or put it into a pandas dataframe\n",
    "import pandas as pd\n",
    "pd.set_option('max_colwidth',150)\n",
    "\n",
    "data_df = pd.DataFrame.from_dict(data_combined).transpose()\n",
    "data_df.columns = ['transcript']\n",
    "data_df = data_df.sort_index()\n",
    "data_df"
   ]
  },
  {
   "cell_type": "code",
   "execution_count": 57,
   "metadata": {
    "collapsed": true
   },
   "outputs": [],
   "source": [
    "# Apply a first round of text cleaning techniques\n",
    "import re\n",
    "import string\n",
    "\n",
    "def clean_text_round1(text):\n",
    "    '''Make text lowercase, remove text in square brackets, remove punctuation and remove words containing numbers.'''\n",
    "    text = text.lower()\n",
    "    text = re.sub('\\[.*?\\]', '', text)\n",
    "    text = re.sub('[%s]' % re.escape(string.punctuation), '', text)\n",
    "    text = re.sub('\\w*\\d\\w*', '', text)\n",
    "    return text\n",
    "\n",
    "round1 = lambda x: clean_text_round1(x)"
   ]
  },
  {
   "cell_type": "code",
   "execution_count": 58,
   "metadata": {},
   "outputs": [
    {
     "data": {
      "text/html": [
       "<div>\n",
       "<style scoped>\n",
       "    .dataframe tbody tr th:only-of-type {\n",
       "        vertical-align: middle;\n",
       "    }\n",
       "\n",
       "    .dataframe tbody tr th {\n",
       "        vertical-align: top;\n",
       "    }\n",
       "\n",
       "    .dataframe thead th {\n",
       "        text-align: right;\n",
       "    }\n",
       "</style>\n",
       "<table border=\"1\" class=\"dataframe\">\n",
       "  <thead>\n",
       "    <tr style=\"text-align: right;\">\n",
       "      <th></th>\n",
       "      <th>transcript</th>\n",
       "    </tr>\n",
       "  </thead>\n",
       "  <tbody>\n",
       "    <tr>\n",
       "      <th>AlonsoPraisesAMR</th>\n",
       "      <td>fernando alonso was delighted with his drive to  in the japanese grand prix given that – with the spaniard believing aston martin to currently be ...</td>\n",
       "    </tr>\n",
       "    <tr>\n",
       "      <th>HamiltonsCarIssues</th>\n",
       "      <td>lewis hamilton was left to rue the struggles he faced with his mercedes during the japanese grand prix with the seventime world champion explainin...</td>\n",
       "    </tr>\n",
       "    <tr>\n",
       "      <th>LeclercsPoorQualifying</th>\n",
       "      <td>charles leclerc enjoyed a strong drive to  in the japanese grand prix but the monegasque admitted that he was “paying the price” for his qualifyin...</td>\n",
       "    </tr>\n",
       "    <tr>\n",
       "      <th>PerezOnHisFuture</th>\n",
       "      <td>sergio perez expects his red bull and  future to be clarified within the next month with the mexican out of contract next year the mexican has bee...</td>\n",
       "    </tr>\n",
       "    <tr>\n",
       "      <th>SainzOnHisFuture</th>\n",
       "      <td>carlos sainz feels that now is the time to “speed up” negotiations and sort his future “sooner rather than later” as he continues to assess his op...</td>\n",
       "    </tr>\n",
       "    <tr>\n",
       "      <th>TotoOnMercedes</th>\n",
       "      <td>toto wolff has admitted that mercedes are in a process of “live testing” as they continue to try to find their feet with the  having changed the c...</td>\n",
       "    </tr>\n",
       "    <tr>\n",
       "      <th>TsunodaPoints</th>\n",
       "      <td>yuki tsunoda was full of relief after scoring a point on home soil in japan for the very first time with backtoback  finishes now the rb driver is...</td>\n",
       "    </tr>\n",
       "  </tbody>\n",
       "</table>\n",
       "</div>"
      ],
      "text/plain": [
       "                                                                                                                                                                   transcript\n",
       "AlonsoPraisesAMR        fernando alonso was delighted with his drive to  in the japanese grand prix given that – with the spaniard believing aston martin to currently be ...\n",
       "HamiltonsCarIssues      lewis hamilton was left to rue the struggles he faced with his mercedes during the japanese grand prix with the seventime world champion explainin...\n",
       "LeclercsPoorQualifying  charles leclerc enjoyed a strong drive to  in the japanese grand prix but the monegasque admitted that he was “paying the price” for his qualifyin...\n",
       "PerezOnHisFuture        sergio perez expects his red bull and  future to be clarified within the next month with the mexican out of contract next year the mexican has bee...\n",
       "SainzOnHisFuture        carlos sainz feels that now is the time to “speed up” negotiations and sort his future “sooner rather than later” as he continues to assess his op...\n",
       "TotoOnMercedes          toto wolff has admitted that mercedes are in a process of “live testing” as they continue to try to find their feet with the  having changed the c...\n",
       "TsunodaPoints           yuki tsunoda was full of relief after scoring a point on home soil in japan for the very first time with backtoback  finishes now the rb driver is..."
      ]
     },
     "execution_count": 58,
     "metadata": {},
     "output_type": "execute_result"
    }
   ],
   "source": [
    "# Let's take a look at the updated text\n",
    "data_clean = pd.DataFrame(data_df.transcript.apply(round1))\n",
    "data_clean"
   ]
  },
  {
   "cell_type": "code",
   "execution_count": 59,
   "metadata": {
    "collapsed": true
   },
   "outputs": [],
   "source": [
    "# Apply a second round of cleaning\n",
    "def clean_text_round2(text):\n",
    "    '''Get rid of some additional punctuation and non-sensical text that was missed the first time around.'''\n",
    "    text = re.sub('[‘’“”…]', '', text)\n",
    "    text = re.sub('\\n', '', text)\n",
    "    return text\n",
    "\n",
    "round2 = lambda x: clean_text_round2(x)"
   ]
  },
  {
   "cell_type": "code",
   "execution_count": 60,
   "metadata": {},
   "outputs": [
    {
     "data": {
      "text/html": [
       "<div>\n",
       "<style scoped>\n",
       "    .dataframe tbody tr th:only-of-type {\n",
       "        vertical-align: middle;\n",
       "    }\n",
       "\n",
       "    .dataframe tbody tr th {\n",
       "        vertical-align: top;\n",
       "    }\n",
       "\n",
       "    .dataframe thead th {\n",
       "        text-align: right;\n",
       "    }\n",
       "</style>\n",
       "<table border=\"1\" class=\"dataframe\">\n",
       "  <thead>\n",
       "    <tr style=\"text-align: right;\">\n",
       "      <th></th>\n",
       "      <th>transcript</th>\n",
       "    </tr>\n",
       "  </thead>\n",
       "  <tbody>\n",
       "    <tr>\n",
       "      <th>AlonsoPraisesAMR</th>\n",
       "      <td>fernando alonso was delighted with his drive to  in the japanese grand prix given that – with the spaniard believing aston martin to currently be ...</td>\n",
       "    </tr>\n",
       "    <tr>\n",
       "      <th>HamiltonsCarIssues</th>\n",
       "      <td>lewis hamilton was left to rue the struggles he faced with his mercedes during the japanese grand prix with the seventime world champion explainin...</td>\n",
       "    </tr>\n",
       "    <tr>\n",
       "      <th>LeclercsPoorQualifying</th>\n",
       "      <td>charles leclerc enjoyed a strong drive to  in the japanese grand prix but the monegasque admitted that he was paying the price for his qualifying ...</td>\n",
       "    </tr>\n",
       "    <tr>\n",
       "      <th>PerezOnHisFuture</th>\n",
       "      <td>sergio perez expects his red bull and  future to be clarified within the next month with the mexican out of contract next year the mexican has bee...</td>\n",
       "    </tr>\n",
       "    <tr>\n",
       "      <th>SainzOnHisFuture</th>\n",
       "      <td>carlos sainz feels that now is the time to speed up negotiations and sort his future sooner rather than later as he continues to assess his option...</td>\n",
       "    </tr>\n",
       "    <tr>\n",
       "      <th>TotoOnMercedes</th>\n",
       "      <td>toto wolff has admitted that mercedes are in a process of live testing as they continue to try to find their feet with the  having changed the con...</td>\n",
       "    </tr>\n",
       "    <tr>\n",
       "      <th>TsunodaPoints</th>\n",
       "      <td>yuki tsunoda was full of relief after scoring a point on home soil in japan for the very first time with backtoback  finishes now the rb driver is...</td>\n",
       "    </tr>\n",
       "  </tbody>\n",
       "</table>\n",
       "</div>"
      ],
      "text/plain": [
       "                                                                                                                                                                   transcript\n",
       "AlonsoPraisesAMR        fernando alonso was delighted with his drive to  in the japanese grand prix given that – with the spaniard believing aston martin to currently be ...\n",
       "HamiltonsCarIssues      lewis hamilton was left to rue the struggles he faced with his mercedes during the japanese grand prix with the seventime world champion explainin...\n",
       "LeclercsPoorQualifying  charles leclerc enjoyed a strong drive to  in the japanese grand prix but the monegasque admitted that he was paying the price for his qualifying ...\n",
       "PerezOnHisFuture        sergio perez expects his red bull and  future to be clarified within the next month with the mexican out of contract next year the mexican has bee...\n",
       "SainzOnHisFuture        carlos sainz feels that now is the time to speed up negotiations and sort his future sooner rather than later as he continues to assess his option...\n",
       "TotoOnMercedes          toto wolff has admitted that mercedes are in a process of live testing as they continue to try to find their feet with the  having changed the con...\n",
       "TsunodaPoints           yuki tsunoda was full of relief after scoring a point on home soil in japan for the very first time with backtoback  finishes now the rb driver is..."
      ]
     },
     "execution_count": 60,
     "metadata": {},
     "output_type": "execute_result"
    }
   ],
   "source": [
    "# Let's take a look at the updated text\n",
    "data_clean = pd.DataFrame(data_clean.transcript.apply(round2))\n",
    "data_clean"
   ]
  },
  {
   "cell_type": "markdown",
   "metadata": {},
   "source": [
    "## Organizing The Data"
   ]
  },
  {
   "cell_type": "markdown",
   "metadata": {},
   "source": [
    "### Assignment:\n",
    "1. Organized data in two standard text formats:\n",
    "   a) Corpus - corpus is a collection of texts, and they are all put together neatly in a pandas dataframe here.\n",
    "   b) Document-Term Matrix - word counts in matrix format"
   ]
  },
  {
   "cell_type": "markdown",
   "metadata": {},
   "source": [
    "### Corpus: Example"
   ]
  },
  {
   "cell_type": "markdown",
   "metadata": {},
   "source": [
    "A corpus is a collection of texts, and they are all put together neatly in a pandas dataframe here."
   ]
  },
  {
   "cell_type": "code",
   "execution_count": 61,
   "metadata": {},
   "outputs": [
    {
     "data": {
      "text/html": [
       "<div>\n",
       "<style scoped>\n",
       "    .dataframe tbody tr th:only-of-type {\n",
       "        vertical-align: middle;\n",
       "    }\n",
       "\n",
       "    .dataframe tbody tr th {\n",
       "        vertical-align: top;\n",
       "    }\n",
       "\n",
       "    .dataframe thead th {\n",
       "        text-align: right;\n",
       "    }\n",
       "</style>\n",
       "<table border=\"1\" class=\"dataframe\">\n",
       "  <thead>\n",
       "    <tr style=\"text-align: right;\">\n",
       "      <th></th>\n",
       "      <th>transcript</th>\n",
       "    </tr>\n",
       "  </thead>\n",
       "  <tbody>\n",
       "    <tr>\n",
       "      <th>AlonsoPraisesAMR</th>\n",
       "      <td>Fernando Alonso was delighted with his drive to P6 in the Japanese Grand Prix, given that – with the Spaniard believing Aston Martin to currently ...</td>\n",
       "    </tr>\n",
       "    <tr>\n",
       "      <th>HamiltonsCarIssues</th>\n",
       "      <td>Lewis Hamilton was left to rue the struggles he faced with his Mercedes during the Japanese Grand Prix, with the seven-time world champion explain...</td>\n",
       "    </tr>\n",
       "    <tr>\n",
       "      <th>LeclercsPoorQualifying</th>\n",
       "      <td>Charles Leclerc enjoyed a strong drive to P4 in the Japanese Grand Prix, but the Monegasque admitted that he was “paying the price” for his qualif...</td>\n",
       "    </tr>\n",
       "    <tr>\n",
       "      <th>PerezOnHisFuture</th>\n",
       "      <td>Sergio Perez expects his Red Bull and F1 future to be clarified within the next month, with the Mexican out of contract next year. The Mexican has...</td>\n",
       "    </tr>\n",
       "    <tr>\n",
       "      <th>SainzOnHisFuture</th>\n",
       "      <td>Carlos Sainz feels that now is the time to “speed up” negotiations and sort his future “sooner rather than later” as he continues to assess his op...</td>\n",
       "    </tr>\n",
       "    <tr>\n",
       "      <th>TotoOnMercedes</th>\n",
       "      <td>Toto Wolff has admitted that Mercedes are in a process of “live testing” as they continue to try to find their feet with the W15, having changed t...</td>\n",
       "    </tr>\n",
       "    <tr>\n",
       "      <th>TsunodaPoints</th>\n",
       "      <td>Yuki Tsunoda was full of relief after scoring a point on home soil in Japan for the very first time. With back-to-back top-10 finishes now, the RB...</td>\n",
       "    </tr>\n",
       "  </tbody>\n",
       "</table>\n",
       "</div>"
      ],
      "text/plain": [
       "                                                                                                                                                                   transcript\n",
       "AlonsoPraisesAMR        Fernando Alonso was delighted with his drive to P6 in the Japanese Grand Prix, given that – with the Spaniard believing Aston Martin to currently ...\n",
       "HamiltonsCarIssues      Lewis Hamilton was left to rue the struggles he faced with his Mercedes during the Japanese Grand Prix, with the seven-time world champion explain...\n",
       "LeclercsPoorQualifying  Charles Leclerc enjoyed a strong drive to P4 in the Japanese Grand Prix, but the Monegasque admitted that he was “paying the price” for his qualif...\n",
       "PerezOnHisFuture        Sergio Perez expects his Red Bull and F1 future to be clarified within the next month, with the Mexican out of contract next year. The Mexican has...\n",
       "SainzOnHisFuture        Carlos Sainz feels that now is the time to “speed up” negotiations and sort his future “sooner rather than later” as he continues to assess his op...\n",
       "TotoOnMercedes          Toto Wolff has admitted that Mercedes are in a process of “live testing” as they continue to try to find their feet with the W15, having changed t...\n",
       "TsunodaPoints           Yuki Tsunoda was full of relief after scoring a point on home soil in Japan for the very first time. With back-to-back top-10 finishes now, the RB..."
      ]
     },
     "execution_count": 61,
     "metadata": {},
     "output_type": "execute_result"
    }
   ],
   "source": [
    "# Let's take a look at our dataframe\n",
    "data_df"
   ]
  },
  {
   "cell_type": "code",
   "execution_count": 62,
   "metadata": {
    "collapsed": true
   },
   "outputs": [],
   "source": [
    "# Let's pickle it for later use\n",
    "data_df.to_pickle(\"corpus.pkl\")"
   ]
  },
  {
   "cell_type": "markdown",
   "metadata": {},
   "source": [
    "### Document-Term Matrix: Example"
   ]
  },
  {
   "cell_type": "markdown",
   "metadata": {},
   "source": [
    "For many of the techniques we'll be using in future assignment, the text must be tokenized, meaning broken down into smaller pieces. The most common tokenization technique is to break down text into words. We can do this using scikit-learn's ` CountVectorizer `, where every row will represent a different document and every column will represent a different word.\n",
    "\n",
    "In addition, with ` CountVectorizer `, we can remove stop words. Stop words are common words that add no additional meaning to text such as 'a', 'the', etc."
   ]
  },
  {
   "cell_type": "code",
   "execution_count": 63,
   "metadata": {},
   "outputs": [
    {
     "data": {
      "text/html": [
       "<div>\n",
       "<style scoped>\n",
       "    .dataframe tbody tr th:only-of-type {\n",
       "        vertical-align: middle;\n",
       "    }\n",
       "\n",
       "    .dataframe tbody tr th {\n",
       "        vertical-align: top;\n",
       "    }\n",
       "\n",
       "    .dataframe thead th {\n",
       "        text-align: right;\n",
       "    }\n",
       "</style>\n",
       "<table border=\"1\" class=\"dataframe\">\n",
       "  <thead>\n",
       "    <tr style=\"text-align: right;\">\n",
       "      <th></th>\n",
       "      <th>able</th>\n",
       "      <th>abu</th>\n",
       "      <th>according</th>\n",
       "      <th>achilles</th>\n",
       "      <th>acknowledged</th>\n",
       "      <th>action</th>\n",
       "      <th>added</th>\n",
       "      <th>admits</th>\n",
       "      <th>admitted</th>\n",
       "      <th>advantage</th>\n",
       "      <th>...</th>\n",
       "      <th>worse</th>\n",
       "      <th>worst</th>\n",
       "      <th>worth</th>\n",
       "      <th>yeah</th>\n",
       "      <th>year</th>\n",
       "      <th>yesterday</th>\n",
       "      <th>youll</th>\n",
       "      <th>youve</th>\n",
       "      <th>yuki</th>\n",
       "      <th>zone</th>\n",
       "    </tr>\n",
       "  </thead>\n",
       "  <tbody>\n",
       "    <tr>\n",
       "      <th>AlonsoPraisesAMR</th>\n",
       "      <td>0</td>\n",
       "      <td>0</td>\n",
       "      <td>0</td>\n",
       "      <td>0</td>\n",
       "      <td>1</td>\n",
       "      <td>1</td>\n",
       "      <td>1</td>\n",
       "      <td>0</td>\n",
       "      <td>0</td>\n",
       "      <td>0</td>\n",
       "      <td>...</td>\n",
       "      <td>0</td>\n",
       "      <td>0</td>\n",
       "      <td>0</td>\n",
       "      <td>1</td>\n",
       "      <td>0</td>\n",
       "      <td>0</td>\n",
       "      <td>0</td>\n",
       "      <td>0</td>\n",
       "      <td>0</td>\n",
       "      <td>0</td>\n",
       "    </tr>\n",
       "    <tr>\n",
       "      <th>HamiltonsCarIssues</th>\n",
       "      <td>1</td>\n",
       "      <td>0</td>\n",
       "      <td>0</td>\n",
       "      <td>0</td>\n",
       "      <td>1</td>\n",
       "      <td>0</td>\n",
       "      <td>1</td>\n",
       "      <td>0</td>\n",
       "      <td>0</td>\n",
       "      <td>0</td>\n",
       "      <td>...</td>\n",
       "      <td>0</td>\n",
       "      <td>0</td>\n",
       "      <td>0</td>\n",
       "      <td>1</td>\n",
       "      <td>0</td>\n",
       "      <td>1</td>\n",
       "      <td>1</td>\n",
       "      <td>1</td>\n",
       "      <td>0</td>\n",
       "      <td>0</td>\n",
       "    </tr>\n",
       "    <tr>\n",
       "      <th>LeclercsPoorQualifying</th>\n",
       "      <td>0</td>\n",
       "      <td>0</td>\n",
       "      <td>0</td>\n",
       "      <td>0</td>\n",
       "      <td>0</td>\n",
       "      <td>0</td>\n",
       "      <td>0</td>\n",
       "      <td>0</td>\n",
       "      <td>1</td>\n",
       "      <td>1</td>\n",
       "      <td>...</td>\n",
       "      <td>0</td>\n",
       "      <td>0</td>\n",
       "      <td>0</td>\n",
       "      <td>0</td>\n",
       "      <td>0</td>\n",
       "      <td>2</td>\n",
       "      <td>0</td>\n",
       "      <td>0</td>\n",
       "      <td>0</td>\n",
       "      <td>0</td>\n",
       "    </tr>\n",
       "    <tr>\n",
       "      <th>PerezOnHisFuture</th>\n",
       "      <td>0</td>\n",
       "      <td>0</td>\n",
       "      <td>1</td>\n",
       "      <td>1</td>\n",
       "      <td>0</td>\n",
       "      <td>0</td>\n",
       "      <td>0</td>\n",
       "      <td>0</td>\n",
       "      <td>1</td>\n",
       "      <td>0</td>\n",
       "      <td>...</td>\n",
       "      <td>1</td>\n",
       "      <td>1</td>\n",
       "      <td>0</td>\n",
       "      <td>0</td>\n",
       "      <td>6</td>\n",
       "      <td>0</td>\n",
       "      <td>0</td>\n",
       "      <td>0</td>\n",
       "      <td>0</td>\n",
       "      <td>0</td>\n",
       "    </tr>\n",
       "    <tr>\n",
       "      <th>SainzOnHisFuture</th>\n",
       "      <td>0</td>\n",
       "      <td>0</td>\n",
       "      <td>0</td>\n",
       "      <td>0</td>\n",
       "      <td>0</td>\n",
       "      <td>0</td>\n",
       "      <td>0</td>\n",
       "      <td>0</td>\n",
       "      <td>0</td>\n",
       "      <td>0</td>\n",
       "      <td>...</td>\n",
       "      <td>0</td>\n",
       "      <td>0</td>\n",
       "      <td>1</td>\n",
       "      <td>1</td>\n",
       "      <td>5</td>\n",
       "      <td>0</td>\n",
       "      <td>0</td>\n",
       "      <td>0</td>\n",
       "      <td>0</td>\n",
       "      <td>0</td>\n",
       "    </tr>\n",
       "    <tr>\n",
       "      <th>TotoOnMercedes</th>\n",
       "      <td>0</td>\n",
       "      <td>0</td>\n",
       "      <td>0</td>\n",
       "      <td>0</td>\n",
       "      <td>1</td>\n",
       "      <td>0</td>\n",
       "      <td>1</td>\n",
       "      <td>1</td>\n",
       "      <td>1</td>\n",
       "      <td>0</td>\n",
       "      <td>...</td>\n",
       "      <td>0</td>\n",
       "      <td>0</td>\n",
       "      <td>0</td>\n",
       "      <td>0</td>\n",
       "      <td>1</td>\n",
       "      <td>0</td>\n",
       "      <td>0</td>\n",
       "      <td>0</td>\n",
       "      <td>0</td>\n",
       "      <td>0</td>\n",
       "    </tr>\n",
       "    <tr>\n",
       "      <th>TsunodaPoints</th>\n",
       "      <td>1</td>\n",
       "      <td>1</td>\n",
       "      <td>0</td>\n",
       "      <td>0</td>\n",
       "      <td>0</td>\n",
       "      <td>1</td>\n",
       "      <td>0</td>\n",
       "      <td>0</td>\n",
       "      <td>0</td>\n",
       "      <td>0</td>\n",
       "      <td>...</td>\n",
       "      <td>0</td>\n",
       "      <td>0</td>\n",
       "      <td>0</td>\n",
       "      <td>2</td>\n",
       "      <td>0</td>\n",
       "      <td>0</td>\n",
       "      <td>0</td>\n",
       "      <td>0</td>\n",
       "      <td>1</td>\n",
       "      <td>1</td>\n",
       "    </tr>\n",
       "  </tbody>\n",
       "</table>\n",
       "<p>7 rows × 803 columns</p>\n",
       "</div>"
      ],
      "text/plain": [
       "                        able  abu  according  achilles  acknowledged  action  \\\n",
       "AlonsoPraisesAMR           0    0          0         0             1       1   \n",
       "HamiltonsCarIssues         1    0          0         0             1       0   \n",
       "LeclercsPoorQualifying     0    0          0         0             0       0   \n",
       "PerezOnHisFuture           0    0          1         1             0       0   \n",
       "SainzOnHisFuture           0    0          0         0             0       0   \n",
       "TotoOnMercedes             0    0          0         0             1       0   \n",
       "TsunodaPoints              1    1          0         0             0       1   \n",
       "\n",
       "                        added  admits  admitted  advantage  ...  worse  worst  \\\n",
       "AlonsoPraisesAMR            1       0         0          0  ...      0      0   \n",
       "HamiltonsCarIssues          1       0         0          0  ...      0      0   \n",
       "LeclercsPoorQualifying      0       0         1          1  ...      0      0   \n",
       "PerezOnHisFuture            0       0         1          0  ...      1      1   \n",
       "SainzOnHisFuture            0       0         0          0  ...      0      0   \n",
       "TotoOnMercedes              1       1         1          0  ...      0      0   \n",
       "TsunodaPoints               0       0         0          0  ...      0      0   \n",
       "\n",
       "                        worth  yeah  year  yesterday  youll  youve  yuki  zone  \n",
       "AlonsoPraisesAMR            0     1     0          0      0      0     0     0  \n",
       "HamiltonsCarIssues          0     1     0          1      1      1     0     0  \n",
       "LeclercsPoorQualifying      0     0     0          2      0      0     0     0  \n",
       "PerezOnHisFuture            0     0     6          0      0      0     0     0  \n",
       "SainzOnHisFuture            1     1     5          0      0      0     0     0  \n",
       "TotoOnMercedes              0     0     1          0      0      0     0     0  \n",
       "TsunodaPoints               0     2     0          0      0      0     1     1  \n",
       "\n",
       "[7 rows x 803 columns]"
      ]
     },
     "execution_count": 63,
     "metadata": {},
     "output_type": "execute_result"
    }
   ],
   "source": [
    "# We are going to create a document-term matrix using CountVectorizer, and exclude common English stop words\n",
    "from sklearn.feature_extraction.text import CountVectorizer\n",
    "\n",
    "cv = CountVectorizer(stop_words='english')\n",
    "data_cv = cv.fit_transform(data_clean.transcript)\n",
    "data_dtm = pd.DataFrame(data_cv.toarray(), columns=cv.get_feature_names_out())\n",
    "data_dtm.index = data_clean.index\n",
    "\n",
    "data_dtm"
   ]
  },
  {
   "cell_type": "code",
   "execution_count": 64,
   "metadata": {
    "collapsed": true
   },
   "outputs": [],
   "source": [
    "# Let's pickle it for later use\n",
    "data_dtm.to_pickle(\"dtm.pkl\")"
   ]
  },
  {
   "cell_type": "code",
   "execution_count": 65,
   "metadata": {
    "collapsed": true
   },
   "outputs": [],
   "source": [
    "# Let's also pickle the cleaned data (before we put it in document-term matrix format) and the CountVectorizer object\n",
    "data_clean.to_pickle('data_clean.pkl')\n",
    "pickle.dump(cv, open(\"cv.pkl\", \"wb\"))"
   ]
  },
  {
   "cell_type": "markdown",
   "metadata": {
    "collapsed": true
   },
   "source": [
    "## Additional Assignments:"
   ]
  },
  {
   "cell_type": "markdown",
   "metadata": {},
   "source": [
    "1. Can you add an additional regular expression to the clean_text_round2 function to further clean the text?\n",
    "2. Play around with CountVectorizer's parameters. What is ngram_range? What is min_df and max_df?"
   ]
  },
  {
   "cell_type": "code",
   "execution_count": 66,
   "metadata": {
    "collapsed": true
   },
   "outputs": [],
   "source": [
    "import re\n",
    "import string\n",
    "import pandas as pd\n",
    "def clean_text_round3(text):\n",
    "    '''Make text lowercase, remove text in square brackets, remove punctuation, remove words containing numbers, and remove URLs.'''\n",
    "    # Make text lowercase\n",
    "    # Remove text in square brackets\n",
    "    text = re.sub('\\[.*?\\]', '', text)\n",
    "    # Remove punctuation\n",
    "    text = re.sub('[%s]' % re.escape(string.punctuation), '', text)\n",
    "    # Remove words containing numbers\n",
    "    text = re.sub('\\w*\\d\\w*', '', text)\n",
    "    # Remove URLs\n",
    "    text = re.sub(r'http\\S+', '', text)\n",
    "    return text\n",
    "\n",
    "# Usage example\n",
    "round3 = lambda x: clean_text_round3(x)"
   ]
  },
  {
   "cell_type": "code",
   "execution_count": 67,
   "metadata": {},
   "outputs": [
    {
     "data": {
      "text/html": [
       "<div>\n",
       "<style scoped>\n",
       "    .dataframe tbody tr th:only-of-type {\n",
       "        vertical-align: middle;\n",
       "    }\n",
       "\n",
       "    .dataframe tbody tr th {\n",
       "        vertical-align: top;\n",
       "    }\n",
       "\n",
       "    .dataframe thead th {\n",
       "        text-align: right;\n",
       "    }\n",
       "</style>\n",
       "<table border=\"1\" class=\"dataframe\">\n",
       "  <thead>\n",
       "    <tr style=\"text-align: right;\">\n",
       "      <th></th>\n",
       "      <th>transcript</th>\n",
       "    </tr>\n",
       "  </thead>\n",
       "  <tbody>\n",
       "    <tr>\n",
       "      <th>AlonsoPraisesAMR</th>\n",
       "      <td>fernando alonso was delighted with his drive to  in the japanese grand prix given that – with the spaniard believing aston martin to currently be ...</td>\n",
       "    </tr>\n",
       "    <tr>\n",
       "      <th>HamiltonsCarIssues</th>\n",
       "      <td>lewis hamilton was left to rue the struggles he faced with his mercedes during the japanese grand prix with the seventime world champion explainin...</td>\n",
       "    </tr>\n",
       "    <tr>\n",
       "      <th>LeclercsPoorQualifying</th>\n",
       "      <td>charles leclerc enjoyed a strong drive to  in the japanese grand prix but the monegasque admitted that he was paying the price for his qualifying ...</td>\n",
       "    </tr>\n",
       "    <tr>\n",
       "      <th>PerezOnHisFuture</th>\n",
       "      <td>sergio perez expects his red bull and  future to be clarified within the next month with the mexican out of contract next year the mexican has bee...</td>\n",
       "    </tr>\n",
       "    <tr>\n",
       "      <th>SainzOnHisFuture</th>\n",
       "      <td>carlos sainz feels that now is the time to speed up negotiations and sort his future sooner rather than later as he continues to assess his option...</td>\n",
       "    </tr>\n",
       "    <tr>\n",
       "      <th>TotoOnMercedes</th>\n",
       "      <td>toto wolff has admitted that mercedes are in a process of live testing as they continue to try to find their feet with the  having changed the con...</td>\n",
       "    </tr>\n",
       "    <tr>\n",
       "      <th>TsunodaPoints</th>\n",
       "      <td>yuki tsunoda was full of relief after scoring a point on home soil in japan for the very first time with backtoback  finishes now the rb driver is...</td>\n",
       "    </tr>\n",
       "  </tbody>\n",
       "</table>\n",
       "</div>"
      ],
      "text/plain": [
       "                                                                                                                                                                   transcript\n",
       "AlonsoPraisesAMR        fernando alonso was delighted with his drive to  in the japanese grand prix given that – with the spaniard believing aston martin to currently be ...\n",
       "HamiltonsCarIssues      lewis hamilton was left to rue the struggles he faced with his mercedes during the japanese grand prix with the seventime world champion explainin...\n",
       "LeclercsPoorQualifying  charles leclerc enjoyed a strong drive to  in the japanese grand prix but the monegasque admitted that he was paying the price for his qualifying ...\n",
       "PerezOnHisFuture        sergio perez expects his red bull and  future to be clarified within the next month with the mexican out of contract next year the mexican has bee...\n",
       "SainzOnHisFuture        carlos sainz feels that now is the time to speed up negotiations and sort his future sooner rather than later as he continues to assess his option...\n",
       "TotoOnMercedes          toto wolff has admitted that mercedes are in a process of live testing as they continue to try to find their feet with the  having changed the con...\n",
       "TsunodaPoints           yuki tsunoda was full of relief after scoring a point on home soil in japan for the very first time with backtoback  finishes now the rb driver is..."
      ]
     },
     "execution_count": 67,
     "metadata": {},
     "output_type": "execute_result"
    }
   ],
   "source": [
    "data_clean = pd.DataFrame(data_clean.transcript.apply(round3))\n",
    "data_clean"
   ]
  },
  {
   "cell_type": "code",
   "execution_count": 68,
   "metadata": {},
   "outputs": [
    {
     "data": {
      "text/html": [
       "<div>\n",
       "<style scoped>\n",
       "    .dataframe tbody tr th:only-of-type {\n",
       "        vertical-align: middle;\n",
       "    }\n",
       "\n",
       "    .dataframe tbody tr th {\n",
       "        vertical-align: top;\n",
       "    }\n",
       "\n",
       "    .dataframe thead th {\n",
       "        text-align: right;\n",
       "    }\n",
       "</style>\n",
       "<table border=\"1\" class=\"dataframe\">\n",
       "  <thead>\n",
       "    <tr style=\"text-align: right;\">\n",
       "      <th></th>\n",
       "      <th>able</th>\n",
       "      <th>acknowledged</th>\n",
       "      <th>action</th>\n",
       "      <th>action japanese</th>\n",
       "      <th>added</th>\n",
       "      <th>admitted</th>\n",
       "      <th>ahead</th>\n",
       "      <th>ahead upcoming</th>\n",
       "      <th>albon</th>\n",
       "      <th>alonso</th>\n",
       "      <th>...</th>\n",
       "      <th>win</th>\n",
       "      <th>wing</th>\n",
       "      <th>wins</th>\n",
       "      <th>wins following</th>\n",
       "      <th>work</th>\n",
       "      <th>world</th>\n",
       "      <th>world champion</th>\n",
       "      <th>yeah</th>\n",
       "      <th>year</th>\n",
       "      <th>yesterday</th>\n",
       "    </tr>\n",
       "  </thead>\n",
       "  <tbody>\n",
       "    <tr>\n",
       "      <th>AlonsoPraisesAMR</th>\n",
       "      <td>0</td>\n",
       "      <td>1</td>\n",
       "      <td>1</td>\n",
       "      <td>1</td>\n",
       "      <td>1</td>\n",
       "      <td>0</td>\n",
       "      <td>0</td>\n",
       "      <td>0</td>\n",
       "      <td>0</td>\n",
       "      <td>8</td>\n",
       "      <td>...</td>\n",
       "      <td>0</td>\n",
       "      <td>0</td>\n",
       "      <td>1</td>\n",
       "      <td>1</td>\n",
       "      <td>1</td>\n",
       "      <td>1</td>\n",
       "      <td>1</td>\n",
       "      <td>1</td>\n",
       "      <td>0</td>\n",
       "      <td>0</td>\n",
       "    </tr>\n",
       "    <tr>\n",
       "      <th>HamiltonsCarIssues</th>\n",
       "      <td>1</td>\n",
       "      <td>1</td>\n",
       "      <td>0</td>\n",
       "      <td>0</td>\n",
       "      <td>1</td>\n",
       "      <td>0</td>\n",
       "      <td>1</td>\n",
       "      <td>0</td>\n",
       "      <td>1</td>\n",
       "      <td>0</td>\n",
       "      <td>...</td>\n",
       "      <td>1</td>\n",
       "      <td>1</td>\n",
       "      <td>0</td>\n",
       "      <td>0</td>\n",
       "      <td>2</td>\n",
       "      <td>1</td>\n",
       "      <td>1</td>\n",
       "      <td>1</td>\n",
       "      <td>0</td>\n",
       "      <td>1</td>\n",
       "    </tr>\n",
       "    <tr>\n",
       "      <th>LeclercsPoorQualifying</th>\n",
       "      <td>0</td>\n",
       "      <td>0</td>\n",
       "      <td>0</td>\n",
       "      <td>0</td>\n",
       "      <td>0</td>\n",
       "      <td>1</td>\n",
       "      <td>1</td>\n",
       "      <td>1</td>\n",
       "      <td>0</td>\n",
       "      <td>0</td>\n",
       "      <td>...</td>\n",
       "      <td>0</td>\n",
       "      <td>0</td>\n",
       "      <td>0</td>\n",
       "      <td>0</td>\n",
       "      <td>2</td>\n",
       "      <td>0</td>\n",
       "      <td>0</td>\n",
       "      <td>0</td>\n",
       "      <td>0</td>\n",
       "      <td>2</td>\n",
       "    </tr>\n",
       "    <tr>\n",
       "      <th>PerezOnHisFuture</th>\n",
       "      <td>0</td>\n",
       "      <td>0</td>\n",
       "      <td>0</td>\n",
       "      <td>0</td>\n",
       "      <td>0</td>\n",
       "      <td>1</td>\n",
       "      <td>0</td>\n",
       "      <td>0</td>\n",
       "      <td>0</td>\n",
       "      <td>1</td>\n",
       "      <td>...</td>\n",
       "      <td>0</td>\n",
       "      <td>0</td>\n",
       "      <td>0</td>\n",
       "      <td>0</td>\n",
       "      <td>0</td>\n",
       "      <td>0</td>\n",
       "      <td>0</td>\n",
       "      <td>0</td>\n",
       "      <td>6</td>\n",
       "      <td>0</td>\n",
       "    </tr>\n",
       "    <tr>\n",
       "      <th>SainzOnHisFuture</th>\n",
       "      <td>0</td>\n",
       "      <td>0</td>\n",
       "      <td>0</td>\n",
       "      <td>0</td>\n",
       "      <td>0</td>\n",
       "      <td>0</td>\n",
       "      <td>2</td>\n",
       "      <td>1</td>\n",
       "      <td>0</td>\n",
       "      <td>0</td>\n",
       "      <td>...</td>\n",
       "      <td>1</td>\n",
       "      <td>0</td>\n",
       "      <td>0</td>\n",
       "      <td>0</td>\n",
       "      <td>0</td>\n",
       "      <td>0</td>\n",
       "      <td>0</td>\n",
       "      <td>1</td>\n",
       "      <td>5</td>\n",
       "      <td>0</td>\n",
       "    </tr>\n",
       "    <tr>\n",
       "      <th>TotoOnMercedes</th>\n",
       "      <td>0</td>\n",
       "      <td>1</td>\n",
       "      <td>0</td>\n",
       "      <td>0</td>\n",
       "      <td>1</td>\n",
       "      <td>1</td>\n",
       "      <td>2</td>\n",
       "      <td>0</td>\n",
       "      <td>0</td>\n",
       "      <td>0</td>\n",
       "      <td>...</td>\n",
       "      <td>0</td>\n",
       "      <td>0</td>\n",
       "      <td>0</td>\n",
       "      <td>0</td>\n",
       "      <td>0</td>\n",
       "      <td>0</td>\n",
       "      <td>0</td>\n",
       "      <td>0</td>\n",
       "      <td>1</td>\n",
       "      <td>0</td>\n",
       "    </tr>\n",
       "    <tr>\n",
       "      <th>TsunodaPoints</th>\n",
       "      <td>1</td>\n",
       "      <td>0</td>\n",
       "      <td>1</td>\n",
       "      <td>1</td>\n",
       "      <td>0</td>\n",
       "      <td>0</td>\n",
       "      <td>2</td>\n",
       "      <td>0</td>\n",
       "      <td>1</td>\n",
       "      <td>0</td>\n",
       "      <td>...</td>\n",
       "      <td>0</td>\n",
       "      <td>1</td>\n",
       "      <td>1</td>\n",
       "      <td>1</td>\n",
       "      <td>1</td>\n",
       "      <td>0</td>\n",
       "      <td>0</td>\n",
       "      <td>2</td>\n",
       "      <td>0</td>\n",
       "      <td>0</td>\n",
       "    </tr>\n",
       "  </tbody>\n",
       "</table>\n",
       "<p>7 rows × 377 columns</p>\n",
       "</div>"
      ],
      "text/plain": [
       "                        able  acknowledged  action  action japanese  added  \\\n",
       "AlonsoPraisesAMR           0             1       1                1      1   \n",
       "HamiltonsCarIssues         1             1       0                0      1   \n",
       "LeclercsPoorQualifying     0             0       0                0      0   \n",
       "PerezOnHisFuture           0             0       0                0      0   \n",
       "SainzOnHisFuture           0             0       0                0      0   \n",
       "TotoOnMercedes             0             1       0                0      1   \n",
       "TsunodaPoints              1             0       1                1      0   \n",
       "\n",
       "                        admitted  ahead  ahead upcoming  albon  alonso  ...  \\\n",
       "AlonsoPraisesAMR               0      0               0      0       8  ...   \n",
       "HamiltonsCarIssues             0      1               0      1       0  ...   \n",
       "LeclercsPoorQualifying         1      1               1      0       0  ...   \n",
       "PerezOnHisFuture               1      0               0      0       1  ...   \n",
       "SainzOnHisFuture               0      2               1      0       0  ...   \n",
       "TotoOnMercedes                 1      2               0      0       0  ...   \n",
       "TsunodaPoints                  0      2               0      1       0  ...   \n",
       "\n",
       "                        win  wing  wins  wins following  work  world  \\\n",
       "AlonsoPraisesAMR          0     0     1               1     1      1   \n",
       "HamiltonsCarIssues        1     1     0               0     2      1   \n",
       "LeclercsPoorQualifying    0     0     0               0     2      0   \n",
       "PerezOnHisFuture          0     0     0               0     0      0   \n",
       "SainzOnHisFuture          1     0     0               0     0      0   \n",
       "TotoOnMercedes            0     0     0               0     0      0   \n",
       "TsunodaPoints             0     1     1               1     1      0   \n",
       "\n",
       "                        world champion  yeah  year  yesterday  \n",
       "AlonsoPraisesAMR                     1     1     0          0  \n",
       "HamiltonsCarIssues                   1     1     0          1  \n",
       "LeclercsPoorQualifying               0     0     0          2  \n",
       "PerezOnHisFuture                     0     0     6          0  \n",
       "SainzOnHisFuture                     0     1     5          0  \n",
       "TotoOnMercedes                       0     0     1          0  \n",
       "TsunodaPoints                        0     2     0          0  \n",
       "\n",
       "[7 rows x 377 columns]"
      ]
     },
     "execution_count": 68,
     "metadata": {},
     "output_type": "execute_result"
    }
   ],
   "source": [
    "from sklearn.feature_extraction.text import CountVectorizer\n",
    "\n",
    "# Example usage with modified parameters\n",
    "cv = CountVectorizer(stop_words='english', ngram_range=(1, 2), min_df=2, max_df=0.8)\n",
    "data_cv = cv.fit_transform(data_clean.transcript)\n",
    "data_dtm = pd.DataFrame(data_cv.toarray(), columns=cv.get_feature_names_out())\n",
    "data_dtm.index = data_clean.index\n",
    "data_dtm"
   ]
  }
 ],
 "metadata": {
  "kernelspec": {
   "display_name": "Python 3 (ipykernel)",
   "language": "python",
   "name": "python3"
  },
  "language_info": {
   "codemirror_mode": {
    "name": "ipython",
    "version": 3
   },
   "file_extension": ".py",
   "mimetype": "text/x-python",
   "name": "python",
   "nbconvert_exporter": "python",
   "pygments_lexer": "ipython3",
   "version": "3.11.5"
  },
  "toc": {
   "nav_menu": {},
   "number_sections": true,
   "sideBar": true,
   "skip_h1_title": false,
   "toc_cell": false,
   "toc_position": {},
   "toc_section_display": "block",
   "toc_window_display": false
  },
  "varInspector": {
   "cols": {
    "lenName": 16,
    "lenType": 16,
    "lenVar": 40
   },
   "kernels_config": {
    "python": {
     "delete_cmd_postfix": "",
     "delete_cmd_prefix": "del ",
     "library": "var_list.py",
     "varRefreshCmd": "print(var_dic_list())"
    },
    "r": {
     "delete_cmd_postfix": ") ",
     "delete_cmd_prefix": "rm(",
     "library": "var_list.r",
     "varRefreshCmd": "cat(var_dic_list()) "
    }
   },
   "types_to_exclude": [
    "module",
    "function",
    "builtin_function_or_method",
    "instance",
    "_Feature"
   ],
   "window_display": false
  }
 },
 "nbformat": 4,
 "nbformat_minor": 2
}
